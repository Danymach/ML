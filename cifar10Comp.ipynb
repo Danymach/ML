{
  "nbformat": 4,
  "nbformat_minor": 0,
  "metadata": {
    "colab": {
      "provenance": [],
      "gpuType": "T4",
      "authorship_tag": "ABX9TyNPczklb93RNF3E54RjOmT9",
      "include_colab_link": true
    },
    "kernelspec": {
      "name": "python3",
      "display_name": "Python 3"
    },
    "language_info": {
      "name": "python"
    },
    "accelerator": "GPU"
  },
  "cells": [
    {
      "cell_type": "markdown",
      "metadata": {
        "id": "view-in-github",
        "colab_type": "text"
      },
      "source": [
        "<a href=\"https://colab.research.google.com/github/Danymach/ML/blob/main/cifar10Comp.ipynb\" target=\"_parent\"><img src=\"https://colab.research.google.com/assets/colab-badge.svg\" alt=\"Open In Colab\"/></a>"
      ]
    },
    {
      "cell_type": "code",
      "execution_count": null,
      "metadata": {
        "colab": {
          "base_uri": "https://localhost:8080/"
        },
        "id": "3MlnUFYVeFKI",
        "outputId": "ac310ffa-ce36-49ab-b29a-2f2db566f5b3"
      },
      "outputs": [
        {
          "output_type": "stream",
          "name": "stdout",
          "text": [
            "TensorFlow version: 2.15.0\n"
          ]
        }
      ],
      "source": [
        "import tensorflow as tf\n",
        "from functools import partial\n",
        "from tensorflow.keras.metrics import Precision, Recall\n",
        "print(\"TensorFlow version:\", tf.__version__)"
      ]
    },
    {
      "cell_type": "code",
      "source": [
        "dataset =  tf.keras.datasets.cifar10.load_data()\n",
        "#training and testing sets\n",
        "(x_train, y_train), (x_test, y_test) = dataset\n",
        "x_train, x_test = x_train / 255.0, x_test / 255.0"
      ],
      "metadata": {
        "colab": {
          "base_uri": "https://localhost:8080/"
        },
        "id": "XwrAjiXOee2g",
        "outputId": "005adacf-7c4b-4d8b-95a1-5a7d54a7e261"
      },
      "execution_count": null,
      "outputs": [
        {
          "output_type": "stream",
          "name": "stdout",
          "text": [
            "Downloading data from https://www.cs.toronto.edu/~kriz/cifar-10-python.tar.gz\n",
            "170498071/170498071 [==============================] - 2s 0us/step\n"
          ]
        }
      ]
    },
    {
      "cell_type": "code",
      "source": [
        "#50,000 training images\n",
        "print(x_train.shape)\n",
        "#10,000 testing images\n",
        "print(x_test.shape)\n",
        "#NOTE: 3 is the channels, bc these are rgb images"
      ],
      "metadata": {
        "colab": {
          "base_uri": "https://localhost:8080/"
        },
        "id": "wPXZqYs9f4Ih",
        "outputId": "aca50300-90b6-490c-dd33-a720a5011a44"
      },
      "execution_count": null,
      "outputs": [
        {
          "output_type": "stream",
          "name": "stdout",
          "text": [
            "(50000, 32, 32, 3)\n",
            "(10000, 32, 32, 3)\n"
          ]
        }
      ]
    },
    {
      "cell_type": "code",
      "source": [
        "#Making a conv2d layer with default arguments\n",
        "DefaultConv2D = partial(tf.keras.layers.Conv2D, kernel_size=3, padding=\"same\", activation=\"relu\", kernel_initializer=\"he_normal\")\n",
        "model = tf.keras.Sequential([\n",
        "DefaultConv2D(filters=64, kernel_size=8, input_shape=[32, 32, 3]),\n",
        " tf.keras.layers.MaxPool2D(),\n",
        "DefaultConv2D(filters=128),\n",
        "DefaultConv2D(filters=128),\n",
        "tf.keras.layers.MaxPool2D(),\n",
        "DefaultConv2D(filters=256),\n",
        "DefaultConv2D(filters=256),\n",
        "tf.keras.layers.MaxPool2D(),\n",
        "tf.keras.layers.Flatten(),\n",
        "tf.keras.layers.Dense(units=128, activation=\"relu\",kernel_initializer=\"he_normal\"),\n",
        "tf.keras.layers.Dropout(0.5),\n",
        "tf.keras.layers.Dense(units=64, activation=\"relu\",kernel_initializer=\"he_normal\"),\n",
        "tf.keras.layers.Dropout(0.5),\n",
        "tf.keras.layers.Dense(units=10, activation=\"softmax\")\n",
        "])"
      ],
      "metadata": {
        "id": "PclJlOIhgG4d"
      },
      "execution_count": null,
      "outputs": []
    },
    {
      "cell_type": "code",
      "source": [
        "model.compile(loss=\"sparse_categorical_crossentropy\", optimizer='adam', metrics=['accuracy'])"
      ],
      "metadata": {
        "id": "b4cMXcPiowA4"
      },
      "execution_count": null,
      "outputs": []
    },
    {
      "cell_type": "code",
      "source": [
        "history = model.fit(x_train, y_train, epochs=20,batch_size=30)"
      ],
      "metadata": {
        "colab": {
          "base_uri": "https://localhost:8080/"
        },
        "id": "2yhoBO3ehqUo",
        "outputId": "45d60b62-a3ff-42d1-e306-c6cf40a51825"
      },
      "execution_count": null,
      "outputs": [
        {
          "output_type": "stream",
          "name": "stdout",
          "text": [
            "Epoch 1/20\n",
            "1667/1667 [==============================] - 22s 8ms/step - loss: 1.9423 - accuracy: 0.2575\n",
            "Epoch 2/20\n",
            "1667/1667 [==============================] - 12s 7ms/step - loss: 1.5954 - accuracy: 0.4063\n",
            "Epoch 3/20\n",
            "1667/1667 [==============================] - 12s 7ms/step - loss: 1.4404 - accuracy: 0.4794\n",
            "Epoch 4/20\n",
            "1667/1667 [==============================] - 12s 7ms/step - loss: 1.3356 - accuracy: 0.5256\n",
            "Epoch 5/20\n",
            "1667/1667 [==============================] - 13s 8ms/step - loss: 1.2524 - accuracy: 0.5640\n",
            "Epoch 6/20\n",
            "1667/1667 [==============================] - 12s 7ms/step - loss: 1.1709 - accuracy: 0.5959\n",
            "Epoch 7/20\n",
            "1667/1667 [==============================] - 12s 7ms/step - loss: 1.1086 - accuracy: 0.6186\n",
            "Epoch 8/20\n",
            "1667/1667 [==============================] - 12s 7ms/step - loss: 1.0469 - accuracy: 0.6440\n",
            "Epoch 9/20\n",
            "1667/1667 [==============================] - 12s 7ms/step - loss: 1.0013 - accuracy: 0.6612\n",
            "Epoch 10/20\n",
            "1667/1667 [==============================] - 12s 7ms/step - loss: 0.9448 - accuracy: 0.6819\n",
            "Epoch 11/20\n",
            "1667/1667 [==============================] - 12s 7ms/step - loss: 0.9190 - accuracy: 0.6911\n",
            "Epoch 12/20\n",
            "1667/1667 [==============================] - 12s 7ms/step - loss: 0.8719 - accuracy: 0.7074\n",
            "Epoch 13/20\n",
            "1667/1667 [==============================] - 12s 7ms/step - loss: 0.8469 - accuracy: 0.7183\n",
            "Epoch 14/20\n",
            "1667/1667 [==============================] - 13s 8ms/step - loss: 0.8111 - accuracy: 0.7292\n",
            "Epoch 15/20\n",
            "1667/1667 [==============================] - 12s 7ms/step - loss: 0.7822 - accuracy: 0.7389\n",
            "Epoch 16/20\n",
            "1667/1667 [==============================] - 12s 7ms/step - loss: 0.7589 - accuracy: 0.7500\n",
            "Epoch 17/20\n",
            "1667/1667 [==============================] - 12s 7ms/step - loss: 0.7198 - accuracy: 0.7615\n",
            "Epoch 18/20\n",
            "1667/1667 [==============================] - 12s 7ms/step - loss: 0.7125 - accuracy: 0.7663\n",
            "Epoch 19/20\n",
            "1667/1667 [==============================] - 12s 7ms/step - loss: 0.6894 - accuracy: 0.7744\n",
            "Epoch 20/20\n",
            "1667/1667 [==============================] - 12s 7ms/step - loss: 0.6639 - accuracy: 0.7840\n"
          ]
        }
      ]
    },
    {
      "cell_type": "code",
      "source": [
        "model.evaluate(x_test,  y_test, verbose=2)"
      ],
      "metadata": {
        "colab": {
          "base_uri": "https://localhost:8080/"
        },
        "id": "FeQXEj3vZ1SW",
        "outputId": "a6cb9a71-423c-489b-ae81-e8f53ebc98fc"
      },
      "execution_count": null,
      "outputs": [
        {
          "output_type": "stream",
          "name": "stdout",
          "text": [
            "313/313 - 2s - loss: 1.0630 - accuracy: 0.6831 - 2s/epoch - 5ms/step\n"
          ]
        },
        {
          "output_type": "execute_result",
          "data": {
            "text/plain": [
              "[1.063017725944519, 0.6830999851226807]"
            ]
          },
          "metadata": {},
          "execution_count": 18
        }
      ]
    }
  ]
}